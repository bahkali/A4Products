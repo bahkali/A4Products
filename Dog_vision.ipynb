{
  "nbformat": 4,
  "nbformat_minor": 0,
  "metadata": {
    "colab": {
      "name": "Dog-vision.ipynb",
      "provenance": [],
      "mount_file_id": "10iMuwzAkX9UsHe60TLwMWRctmZsm8Bzy",
      "authorship_tag": "ABX9TyOmfZRsxt+qEz06QQ1zseXW",
      "include_colab_link": true
    },
    "kernelspec": {
      "name": "python3",
      "display_name": "Python 3"
    },
    "accelerator": "GPU"
  },
  "cells": [
    {
      "cell_type": "markdown",
      "metadata": {
        "id": "view-in-github",
        "colab_type": "text"
      },
      "source": [
        "<a href=\"https://colab.research.google.com/github/bahkali/A4Products/blob/master/Dog_vision.ipynb\" target=\"_parent\"><img src=\"https://colab.research.google.com/assets/colab-badge.svg\" alt=\"Open In Colab\"/></a>"
      ]
    },
    {
      "cell_type": "markdown",
      "metadata": {
        "id": "XwM_ij2SWozD"
      },
      "source": [
        "# End-to-end Multi-class Dog Bread Classification\r\n",
        "\r\n",
        "This notebook build an end-to-end multi-class images classifier using Tensorflow 2.0 and TensorFlow Hub.\r\n",
        "\r\n",
        "## 1. Problem\r\n",
        "\r\n",
        "Identifying the bread of dog given an image of a dog.\r\n",
        "when I'm sitting at the cafe and I take a phote of a dog, I want to know what bread of dog it is.\r\n",
        "\r\n",
        "## 2. Data\r\n",
        "\r\n",
        "The data we're using is from Kaggle's dog breed identification competition.\r\n",
        "\r\n",
        "\r\n",
        "## 3. Evaluation\r\n",
        "\r\n",
        "The evaluation is a file with prediction probabilities for each dog breed each test image.\r\n",
        "\r\n",
        "## 4. Features\r\n",
        "\r\n",
        "Some information about the data:\r\n",
        "* We're dealing with images (unstructured data) so it's probably best we use deep learning/transfer learning. \r\n",
        "* There are 120 breeds of dogs (this means there are 120 different classes).\r\n",
        "* There are around 10000 images in the training set (Images have labels)\r\n",
        "* There are around 10000 images in the test set (Images have no labels, because we'll want to predict them)."
      ]
    },
    {
      "cell_type": "code",
      "metadata": {
        "id": "YI-h3KwzS2HU"
      },
      "source": [
        "# Import Tools\r\n",
        "import pandas as pd\r\n",
        "import numpy as np\r\n",
        "import matplotlib.pyplot as plt\r\n",
        "# Import Tensorflow into colab\r\n",
        "import tensorflow as tf\r\n",
        "import tensorflow_hub as hub\r\n"
      ],
      "execution_count": 2,
      "outputs": []
    },
    {
      "cell_type": "code",
      "metadata": {
        "colab": {
          "base_uri": "https://localhost:8080/"
        },
        "id": "ERLI17NVTzZ3",
        "outputId": "7d6d666d-9376-4318-dea4-e3e65993ea33"
      },
      "source": [
        "print(\"TF version:\", tf.__version__)"
      ],
      "execution_count": 3,
      "outputs": [
        {
          "output_type": "stream",
          "text": [
            "TF version: 2.4.0\n"
          ],
          "name": "stdout"
        }
      ]
    },
    {
      "cell_type": "code",
      "metadata": {
        "colab": {
          "base_uri": "https://localhost:8080/"
        },
        "id": "PH3CJycuZgWn",
        "outputId": "7a1f505a-5a25-40e5-91f6-f4e52f877bec"
      },
      "source": [
        "print(\"TF Hub version:\", hub.__version__)"
      ],
      "execution_count": 4,
      "outputs": [
        {
          "output_type": "stream",
          "text": [
            "TF Hub version: 0.11.0\n"
          ],
          "name": "stdout"
        }
      ]
    },
    {
      "cell_type": "code",
      "metadata": {
        "colab": {
          "base_uri": "https://localhost:8080/"
        },
        "id": "RYF7Yq8RLOC0",
        "outputId": "d346f521-f712-4460-fb2c-82a567b909db"
      },
      "source": [
        "# Check for GPU \r\n",
        "print(\"GPU\", \"available (YESSS!!!!\" if tf.config.list_physical_devices(\"GPU\") else \"not available :(\")"
      ],
      "execution_count": 5,
      "outputs": [
        {
          "output_type": "stream",
          "text": [
            "GPU available (YESSS!!!!\n"
          ],
          "name": "stdout"
        }
      ]
    },
    {
      "cell_type": "code",
      "metadata": {
        "id": "3EP5wTDBLzpA"
      },
      "source": [
        ""
      ],
      "execution_count": null,
      "outputs": []
    }
  ]
}